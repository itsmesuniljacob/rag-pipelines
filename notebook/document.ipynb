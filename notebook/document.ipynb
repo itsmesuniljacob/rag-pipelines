{
 "cells": [
  {
   "cell_type": "markdown",
   "id": "0fec16ad",
   "metadata": {},
   "source": [
    "## Data Ingestion   "
   ]
  },
  {
   "cell_type": "code",
   "execution_count": 56,
   "id": "54b30368",
   "metadata": {},
   "outputs": [],
   "source": [
    "from langchain.schema import Document\n",
    "from langchain_core.documents import Document\n"
   ]
  },
  {
   "cell_type": "code",
   "execution_count": 57,
   "id": "66448371",
   "metadata": {},
   "outputs": [
    {
     "name": "stdout",
     "output_type": "stream",
     "text": [
      "page_content='Hello, world!' metadata={'source': 'example.pdf', 'pages': 1, 'author': 'Sunil J', 'date': '2021-01-01'}\n"
     ]
    }
   ],
   "source": [
    "# These metadata fields are optional and can be omitted. This is helpful for the RAG pipeline to track the source of the document,\n",
    "# Also for filtering the documents\n",
    "document = Document(\n",
    "    page_content=\"Hello, world!\", \n",
    "    metadata={\n",
    "        \"source\": \"example.pdf\",\n",
    "        \"pages\": 1,\n",
    "        \"author\": \"Sunil J\",\n",
    "        \"date\": \"2021-01-01\"  \n",
    "        }\n",
    "    )\n",
    "\n",
    "print(document)"
   ]
  },
  {
   "cell_type": "code",
   "execution_count": 58,
   "id": "5653f8eb",
   "metadata": {},
   "outputs": [
    {
     "name": "stdout",
     "output_type": "stream",
     "text": [
      "[Document(metadata={'source': '../data/koh_samet.txt'}, page_content='Koh Samet is a beautiful tropical island located about three hours from Bangkok, known for its stunning white sandy beaches, clear turquoise waters, and peaceful atmosphere. This small island offers a perfect escape with its lush jungles, rocky outcrops, fresh seafood, and a mix of relaxing bars and resorts, making it an ideal destination for both adventure and relaxation.\\n\\nIntroduction to Koh Samet\\n\\nKoh Samet is a charming island situated in the Gulf of Thailand, within Rayong province. It lies approximately 220 km from Bangkok and just 75 km from Pattaya, making it a popular weekend getaway for locals and travelers seeking a break from city life. Despite its proximity to major cities, Koh Samet remains a hidden gem, known for its idyllic beaches, fresh seafood, and laid-back vibe.\\n\\nGetting There\\n\\nFrom Bangkok to Ban Phe Pier: The journey to Koh Samet begins with a 2-3 hour trip from Bangkok to Ban Phe Pier in Rayong. Options include:\\n\\nPersonal car for flexibility\\nBus or minivan (recommended for affordability and comfort)\\nTaxi (expensive and not recommended)\\nTrain (economical but slow and less comfortable)\\nPlane (not practical due to distance from the pier)\\nFrom Ban Phe Pier to Koh Samet:\\n\\nSpeedboat: 15 minutes, 200 THB, operates 24 hours\\nFerry: 40 minutes, 70 THB, operates until 6 pm\\nTop Resorts and Accommodations\\n\\nParadee: Luxury resort near Ao Kiew with garden and beachfront cottages, some with roof decks and bathtubs. Price: ~17,000 THB/night.\\nSai Kaew Beach Resort: Located on Sai Kaew Beach, features 3 outdoor pools and 2 beachfront restaurants. Price: ~4,500 THB/night.\\nSamed Villa Resort: Cozy wooden Thai-style rooms near Ao Phai and Tubtim Beach, offers bike rentals and water sports. Price: ~1,700 THB/night.\\nLe Vimarn Cottages & Spa: Beach-style bungalows near Ao Prao Beach with a renowned spa and outdoor pool. Price: ~5,600 THB/night.\\nAo Prao Resort: Surrounded by tropical vegetation, offers hiking and biking trails, a wine cellar, and bar. Price: ~4,000 THB/night.\\nGetting Around Koh Samet\\n\\nWalking: Suitable for short distances around the main town but less practical for the whole island due to terrain.\\nMotorbike: Popular and flexible option; rental starts at 250 THB/day. Roads can be bumpy and mountainous in the south.\\nRod Song Thaew: Shared pickup truck taxis with fares between 20-100 THB, convenient for those who don’t drive.\\nExploring the Island\\n\\nUpon arrival at Nadan Pier, visitors are greeted by the statue of Pisuea Samet, a female giant from local legend. The island offers a variety of beaches, hiking trails, and cultural experiences, making it a perfect blend of natural beauty and local charm')]\n"
     ]
    }
   ],
   "source": [
    "### Using text loader to load the data from the file\n",
    "from langchain.document_loaders import TextLoader\n",
    "\n",
    "loader = TextLoader(\"../data/koh_samet.txt\",encoding=\"utf-8\")\n",
    "documents = loader.load()\n",
    "\n",
    "print(documents)"
   ]
  },
  {
   "cell_type": "code",
   "execution_count": 59,
   "id": "67c9fbe0",
   "metadata": {},
   "outputs": [
    {
     "name": "stderr",
     "output_type": "stream",
     "text": [
      "100%|██████████| 2/2 [00:00<00:00, 1422.52it/s]"
     ]
    },
    {
     "name": "stdout",
     "output_type": "stream",
     "text": [
      "[Document(metadata={'source': '../data/koh_samet.txt'}, page_content='Koh Samet is a beautiful tropical island located about three hours from Bangkok, known for its stunning white sandy beaches, clear turquoise waters, and peaceful atmosphere. This small island offers a perfect escape with its lush jungles, rocky outcrops, fresh seafood, and a mix of relaxing bars and resorts, making it an ideal destination for both adventure and relaxation.\\n\\nIntroduction to Koh Samet\\n\\nKoh Samet is a charming island situated in the Gulf of Thailand, within Rayong province. It lies approximately 220 km from Bangkok and just 75 km from Pattaya, making it a popular weekend getaway for locals and travelers seeking a break from city life. Despite its proximity to major cities, Koh Samet remains a hidden gem, known for its idyllic beaches, fresh seafood, and laid-back vibe.\\n\\nGetting There\\n\\nFrom Bangkok to Ban Phe Pier: The journey to Koh Samet begins with a 2-3 hour trip from Bangkok to Ban Phe Pier in Rayong. Options include:\\n\\nPersonal car for flexibility\\nBus or minivan (recommended for affordability and comfort)\\nTaxi (expensive and not recommended)\\nTrain (economical but slow and less comfortable)\\nPlane (not practical due to distance from the pier)\\nFrom Ban Phe Pier to Koh Samet:\\n\\nSpeedboat: 15 minutes, 200 THB, operates 24 hours\\nFerry: 40 minutes, 70 THB, operates until 6 pm\\nTop Resorts and Accommodations\\n\\nParadee: Luxury resort near Ao Kiew with garden and beachfront cottages, some with roof decks and bathtubs. Price: ~17,000 THB/night.\\nSai Kaew Beach Resort: Located on Sai Kaew Beach, features 3 outdoor pools and 2 beachfront restaurants. Price: ~4,500 THB/night.\\nSamed Villa Resort: Cozy wooden Thai-style rooms near Ao Phai and Tubtim Beach, offers bike rentals and water sports. Price: ~1,700 THB/night.\\nLe Vimarn Cottages & Spa: Beach-style bungalows near Ao Prao Beach with a renowned spa and outdoor pool. Price: ~5,600 THB/night.\\nAo Prao Resort: Surrounded by tropical vegetation, offers hiking and biking trails, a wine cellar, and bar. Price: ~4,000 THB/night.\\nGetting Around Koh Samet\\n\\nWalking: Suitable for short distances around the main town but less practical for the whole island due to terrain.\\nMotorbike: Popular and flexible option; rental starts at 250 THB/day. Roads can be bumpy and mountainous in the south.\\nRod Song Thaew: Shared pickup truck taxis with fares between 20-100 THB, convenient for those who don’t drive.\\nExploring the Island\\n\\nUpon arrival at Nadan Pier, visitors are greeted by the statue of Pisuea Samet, a female giant from local legend. The island offers a variety of beaches, hiking trails, and cultural experiences, making it a perfect blend of natural beauty and local charm'), Document(metadata={'source': '../data/machine_learning.txt'}, page_content='Machine learning is a branch of artificial intelligence where computers use algorithms to learn patterns from data and improve their performance on tasks without being explicitly programmed. It enables systems to make predictions, recognize patterns, or generate content by training on large datasets.\\n\\nOverview of Machine Learning\\n\\nMachine learning (ML) is a subset of artificial intelligence (AI) focused on creating algorithms that learn from data patterns to make predictions or decisions without explicit programming.\\nIt is the foundation of many modern AI applications, including forecasting, autonomous vehicles, and generative AI models like large language models (LLMs).\\nThe core goal of ML is generalization: training a model on data so it performs well on new, unseen data.\\nHow Machine Learning Works\\n\\nML models learn by optimizing parameters to minimize errors on training data, enabling them to infer correct outputs for real-world tasks.\\nData must be represented numerically, often as vectors of features, which may require feature engineering to convert raw data (like text or images) into usable formats.\\nDeep learning, a subset of ML using deep neural networks, automates much of the feature extraction process and excels with large datasets and computational power.\\nTypes of Machine Learning\\n\\nSupervised Learning: Models learn from labeled data to predict outcomes, used in classification and regression tasks.\\nUnsupervised Learning: Models identify patterns or groupings in unlabeled data, useful for clustering and dimensionality reduction.\\nReinforcement Learning: Models learn to make decisions by receiving rewards or penalties from their environment, optimizing actions over time.\\nMachine Learning vs. Artificial Intelligence\\n\\nAll machine learning is AI, but not all AI is machine learning.\\nTraditional AI can be rule-based systems with explicit instructions, while ML systems learn patterns implicitly from data.\\nML offers greater flexibility and scalability for complex tasks where explicit programming is impractical.\\nApplications and Importance\\n\\nML powers many technologies such as spam filters, recommendation systems, medical diagnosis tools, and autonomous systems.\\nThe rise of big data and GPUs has accelerated the development and deployment of sophisticated ML models.\\nML is closely linked with data science, automating data analysis and enabling autonomous task execution.\\nThis summary provides a comprehensive understanding of machine learning, its mechanisms, types, and significance in modern technology.')]\n"
     ]
    },
    {
     "name": "stderr",
     "output_type": "stream",
     "text": [
      "\n"
     ]
    }
   ],
   "source": [
    "### Using directory loader to load the text files from the directory\n",
    "from langchain_community.document_loaders import DirectoryLoader\n",
    "\n",
    "loader = DirectoryLoader(\n",
    "    \"../data\",\n",
    "    glob=\"*.txt\",\n",
    "    loader_cls=TextLoader,\n",
    "    show_progress=True,\n",
    "    )\n",
    "documents = loader.load()\n",
    "\n",
    "print(documents)"
   ]
  },
  {
   "cell_type": "code",
   "execution_count": 60,
   "id": "3963d98b",
   "metadata": {},
   "outputs": [
    {
     "name": "stdout",
     "output_type": "stream",
     "text": [
      "1\n"
     ]
    },
    {
     "data": {
      "text/plain": [
       "[Document(metadata={'source': '../data/excel/top_10_countries_population.xlsx'}, page_content='Rank Country Population (millions) 1 China 1425 2 India 1417 3 United States 339 4 Indonesia 277 5 Pakistan 240 6 Nigeria 223 7 Brazil 216 8 Bangladesh 174 9 Russia 144 10 Mexico 130')]"
      ]
     },
     "execution_count": 60,
     "metadata": {},
     "output_type": "execute_result"
    }
   ],
   "source": [
    "# read my excel file from the data/excel folder using langchain excel loader\n",
    "from langchain_community.document_loaders import UnstructuredExcelLoader    \n",
    "\n",
    "loader = UnstructuredExcelLoader(\"../data/excel/top_10_countries_population.xlsx\")\n",
    "documents = loader.load()\n",
    "print(len(documents))\n",
    "documents"
   ]
  },
  {
   "cell_type": "code",
   "execution_count": 61,
   "id": "057481ba",
   "metadata": {},
   "outputs": [
    {
     "name": "stderr",
     "output_type": "stream",
     "text": [
      "100%|██████████| 3/3 [00:00<00:00, 114.64it/s]\n"
     ]
    },
    {
     "data": {
      "text/plain": [
       "[Document(metadata={'producer': 'OpenPDF 1.3.32', 'creator': '', 'creationdate': '2024-11-14T10:56:16+01:00', 'source': '../data/pdf_documents/swiss-pass-sunil.pdf', 'file_path': '../data/pdf_documents/swiss-pass-sunil.pdf', 'total_pages': 1, 'format': 'PDF 1.5', 'title': '', 'author': '', 'subject': '', 'keywords': '', 'moddate': '', 'trapped': '', 'modDate': '', 'creationDate': \"D:20241114105616+01'00'\", 'page': 0}, page_content='ĠġĢģ\\nTicket-ID 496508225499\\nSwiss Travel Pass 3 days\\nJacob Sunil\\nValid: 2025\\n14.05.1980\\nħ\\nĨ\\nvon/de/da/from\\nì nach/a/a/to\\nħ\\nĨ\\nKL.\\nCL.\\n28.04\\n00:00 *\\nì *\\n01.05\\n05:00\\n2\\n*\\n*\\n*\\nì *\\n*\\n*\\n*\\nArea of validity and benefits see www.swisstravelpass.com. Valid as Swiss Museum Pass.\\nOnly valid with your Passport / ID.\\nAdults\\nCHF 244.00\\nB2P\\n(2.)(GA)(8)\\nArticle no.: 6704\\nOrder no.: 115477989376\\nincl. 8.10% VAT\\nThe current tariff of Swiss transport companies, in particular the common ancillary tariff regulations for direct\\nservice and regional transport networks (T600) as well as the tariffs of the regional transport and fare networks,\\napply to the use of E-Tickets.\\nExtract:\\n-\\nE-Tickets are personal and not transferable. The ticket has to be presented to the control staff along with an\\nofficial identity document and / or with any discount card.\\n-\\nFor refunds, T600.9 or the conditions of the relevant transport company or operator apply. Refunds of e-tickets\\nin the context of international journeys are made in according with international terms and conditions.\\nSchweizerische Bundesbahnen\\nHilfikerstrasse 1\\n3000 Bern 65\\nNo VAT: CHE-102.909.703 VAT\\nReference no.: 1189638299 / 14111056 19699 © SBB AG 0110.14/50'),\n",
       " Document(metadata={'producer': 'iText 2.1.7 by 1T3XT', 'creator': 'JasperReports (Form16B)', 'creationdate': '2025-01-16T16:29:27+05:30', 'source': '../data/pdf_documents/Form-16B-10th-Floor-PRL.pdf', 'file_path': '../data/pdf_documents/Form-16B-10th-Floor-PRL.pdf', 'total_pages': 1, 'format': 'PDF 1.4', 'title': '', 'author': '', 'subject': '', 'keywords': '', 'moddate': '2025-01-16T16:29:27+05:30', 'trapped': '', 'modDate': \"D:20250116162927+05'30'\", 'creationDate': \"D:20250116162927+05'30'\", 'page': 0}, page_content='FORM NO. 16B\\n[See rule 31(1)(b)]\\nCertificate under Section 203 of the Income Tax Act, 1961 for Tax Deducted at Source\\nCertificate No.:\\nLast Updated On:\\nName and Address of the Deductor (Transferee)\\nName and Address of the Deductee (Transferor)\\nPAN of the Deductor (Transferee)\\nPAN of the Deductee (Transferor)\\nAssessment Year\\nSummary of Transaction(s)\\nSr. No.\\nUnique Acknowledgement Number\\nAmount Paid / Credited (Rs.)\\nDate of Payment / Credit (dd-mmm-yyyy)\\n1\\n771502.00\\n31-Mar-2023\\nAJ03394252-1\\nI. DETAILS OF TAX DEDUCTED AND DEPOSITED WITH RESPECT TO THE DEDUCTEE\\n(Income Tax + Surcharge + Edu. Cess)\\nSr. No.\\n Amount (Rs.)\\nChallan Identification Number (CIN)\\nBSR Code of the Bank Branch\\nDate on which Tax Deposited (dd-\\nmmm-yyyy)\\nChallan Serial Number\\n1\\n7715.02\\n0510002\\n25-Nov-2024\\n11374\\nII. DETAILS OF TAX  DEPOSITED IN THE CENTRAL GOVERNMENT ACCOUNT THROUGH CHALLAN\\n                   (Income Tax + Surcharge + Edu. Cess + Fee + Interest)\\nSr. No.\\n Amount (Rs.)\\nChallan Identification Number (CIN)\\nBSR Code of the Bank Branch\\nDate on which Tax Deposited (dd-\\nmmm-yyyy)\\nChallan Serial Number\\n1\\n7715.02\\n0510002\\n25-Nov-2024\\n11374\\nDate:\\n3RD FLOOR GAYATRI,KARIAVATTOM P O,TECHNOPARK CAMPUS,\\nTRIVANDRUM - 695581\\nKerala\\n55/1,DEVARABISANAHALLI,BELLANDUR POST,SARJAPUR-\\nMARTHAHALLI ORR,\\nBANGALORE - 560103\\nKarnataka\\nAHAPJ0917A\\nAABCS7723E\\n2023-24\\nHTPQCGE\\n01-Dec-2024\\nJOHN JOJO\\nI, JOHN JOJO, son / daughter of MATHEW GEORGE JOHN in the capacity of Buyer of Immovable Property (Designation) do hereby certify that a sum of Rs. 7715.02 [Rs. Seven\\nThousand Seven Hundred and Fifteen Two paisa Only (in words)] has been deducted and deposited to the credit of the Central Government. I further certify that the information given\\nabove is true, complete and correct and is based on the books of account, documents, TDS statements, TDS deposited and other available records.\\nVerification\\nSOBHA LIMITED\\nJOHN  JOJO\\nBANGALORE\\nFull Name:\\nSignature of Person Responsible for Deduction of Tax:\\nPlace:\\n16-Jan-2025\\nPage 1 of 1'),\n",
       " Document(metadata={'producer': 'iText 2.1.7 by 1T3XT', 'creator': 'JasperReports (Form16B)', 'creationdate': '2025-01-22T10:57:19+05:30', 'source': '../data/pdf_documents/Form-16B-15th-Floor-PRL.pdf', 'file_path': '../data/pdf_documents/Form-16B-15th-Floor-PRL.pdf', 'total_pages': 1, 'format': 'PDF 1.4', 'title': '', 'author': '', 'subject': '', 'keywords': '', 'moddate': '2025-01-22T10:57:19+05:30', 'trapped': '', 'modDate': \"D:20250122105719+05'30'\", 'creationDate': \"D:20250122105719+05'30'\", 'page': 0}, page_content='FORM NO. 16B\\n[See rule 31(1)(b)]\\nCertificate under Section 203 of the Income Tax Act, 1961 for Tax Deducted at Source\\nCertificate No.:\\nLast Updated On:\\nName and Address of the Deductor (Transferee)\\nName and Address of the Deductee (Transferor)\\nPAN of the Deductor (Transferee)\\nPAN of the Deductee (Transferor)\\nAssessment Year\\nSummary of Transaction(s)\\nSr. No.\\nUnique Acknowledgement Number\\nAmount Paid / Credited (Rs.)\\nDate of Payment / Credit (dd-mmm-yyyy)\\n1\\n771502.00\\n17-Jan-2025\\nAL21288094-1\\nI. DETAILS OF TAX DEDUCTED AND DEPOSITED WITH RESPECT TO THE DEDUCTEE\\n(Income Tax + Surcharge + Edu. Cess)\\nSr. No.\\n Amount (Rs.)\\nChallan Identification Number (CIN)\\nBSR Code of the Bank Branch\\nDate on which Tax Deposited (dd-\\nmmm-yyyy)\\nChallan Serial Number\\n1\\n7715.02\\n0510002\\n17-Jan-2025\\n01090\\nII. DETAILS OF TAX  DEPOSITED IN THE CENTRAL GOVERNMENT ACCOUNT THROUGH CHALLAN\\n                   (Income Tax + Surcharge + Edu. Cess + Fee + Interest)\\nSr. No.\\n Amount (Rs.)\\nChallan Identification Number (CIN)\\nBSR Code of the Bank Branch\\nDate on which Tax Deposited (dd-\\nmmm-yyyy)\\nChallan Serial Number\\n1\\n7715.02\\n0510002\\n17-Jan-2025\\n01090\\nDate:\\n3RD FLOOR GAYATRI,KARIAVATTOM P O,TECHNOPARK CAMPUS,\\nTRIVANDRUM - 695581\\nKerala\\n55/1,DEVARABISANAHALLI,BELLANDUR POST,SARJAPUR-\\nMARTHAHALLI ORR,\\nBANGALORE - 560103\\nKarnataka\\nAHAPJ0917A\\nAABCS7723E\\n2025-26\\nHWZOCXA\\n19-Jan-2025\\nJOHN JOJO\\nI, JOHN JOJO, son / daughter of MATHEW GEORGE JOHN in the capacity of Buyer of Immovable Property (Designation) do hereby certify that a sum of Rs. 7715.02 [Rs. Seven\\nThousand Seven Hundred and Fifteen Two paisa Only (in words)] has been deducted and deposited to the credit of the Central Government. I further certify that the information given\\nabove is true, complete and correct and is based on the books of account, documents, TDS statements, TDS deposited and other available records.\\nVerification\\nSOBHA LIMITED\\nJOHN  JOJO\\nBANGALORE\\nFull Name:\\nSignature of Person Responsible for Deduction of Tax:\\nPlace:\\n22-Jan-2025\\nPage 1 of 1')]"
      ]
     },
     "execution_count": 61,
     "metadata": {},
     "output_type": "execute_result"
    }
   ],
   "source": [
    "# need pdf loader to load the pdf files from the data/pdf folder\n",
    "from langchain_community.document_loaders import PyPDFLoader, PyMuPDFLoader\n",
    "\n",
    "dir_loader = DirectoryLoader(\n",
    "    \"../data/pdf_documents\",glob=\"*.pdf\",\n",
    "    loader_cls=PyMuPDFLoader,\n",
    "    show_progress=True,\n",
    "    )\n",
    "pdf_documents = dir_loader.load()\n",
    "pdf_documents\n"
   ]
  },
  {
   "cell_type": "code",
   "execution_count": 62,
   "id": "9681de51",
   "metadata": {},
   "outputs": [
    {
     "data": {
      "text/plain": [
       "list"
      ]
     },
     "execution_count": 62,
     "metadata": {},
     "output_type": "execute_result"
    }
   ],
   "source": [
    "type(pdf_documents)"
   ]
  },
  {
   "cell_type": "code",
   "execution_count": 63,
   "id": "1afe635c",
   "metadata": {},
   "outputs": [],
   "source": [
    "import numpy as np\n",
    "from sentence_transformers import SentenceTransformer\n",
    "import chromadb\n",
    "from chromadb.config import Settings\n",
    "import uuid\n",
    "from typing import List, Dict, Any, Tuple\n",
    "from sklearn.metrics.pairwise import cosine_similarity\n"
   ]
  },
  {
   "cell_type": "code",
   "execution_count": 64,
   "id": "0b93d40a",
   "metadata": {},
   "outputs": [
    {
     "name": "stdout",
     "output_type": "stream",
     "text": [
      "Loading model all-MiniLM-L6-v2\n",
      "Model all-MiniLM-L6-v2 loaded successfully. Embedding dimension: 384\n"
     ]
    },
    {
     "data": {
      "text/plain": [
       "<__main__.EmbeddingManager at 0x141582290>"
      ]
     },
     "execution_count": 64,
     "metadata": {},
     "output_type": "execute_result"
    }
   ],
   "source": [
    "class EmbeddingManager:\n",
    "    \"\"\"\n",
    "    This class is used to manage the embeddings for the documents.\n",
    "    \"\"\"\n",
    "\n",
    "    def __init__(self, model_name: str = \"all-MiniLM-L6-v2\"):\n",
    "        self.model_name = model_name\n",
    "        self.model = None\n",
    "        self.load_model()\n",
    "    \n",
    "    def load_model(self):\n",
    "        try:\n",
    "            print(f\"Loading model {self.model_name}\")\n",
    "            self.model = SentenceTransformer(self.model_name)\n",
    "            print(f\"Model {self.model_name} loaded successfully. Embedding dimension: {self.model.get_sentence_embedding_dimension()}\")\n",
    "        except Exception as e:\n",
    "            print(f\"Error loading model {self.model_name}: {e}\")\n",
    "            raise\n",
    "\n",
    "    def generate_embeddings(self, documents: List[str]) -> np.ndarray:\n",
    "        \"\"\"\n",
    "        Generate embeddings for the documents.\n",
    "        Args:\n",
    "            documents: List[str]\n",
    "        Returns:\n",
    "            np.ndarray of shape (n_documents, n_dimensions)\n",
    "        \"\"\"\n",
    "        print(f\"Generating embeddings for {len(documents)} documents\")\n",
    "        embeddings = self.model.encode(documents, show_progress_bar=True)\n",
    "        print(f\"Embeddings generated for {len(documents)} documents with shape {embeddings.shape}\")\n",
    "        return embeddings\n",
    "\n",
    "# Initialize embeddings manager\n",
    "embeddings_manager = EmbeddingManager()\n",
    "embeddings_manager\n",
    "    "
   ]
  },
  {
   "cell_type": "code",
   "execution_count": 65,
   "id": "4e239d26",
   "metadata": {},
   "outputs": [
    {
     "name": "stdout",
     "output_type": "stream",
     "text": [
      "Collection pdf_documents created successfully at /Users/suniljacob/01-gitDownloads/02-build-rag-pipeline/data/vector_store.\n",
      "Collection pdf_documents has 0 documents.\n"
     ]
    },
    {
     "data": {
      "text/plain": [
       "<__main__.VectorStoreManager at 0x14144bb10>"
      ]
     },
     "execution_count": 65,
     "metadata": {},
     "output_type": "execute_result"
    }
   ],
   "source": [
    "## Vector Store\n",
    "import os\n",
    "class VectorStoreManager:\n",
    "    \"\"\"\n",
    "    This class is used to manage the vector store.\n",
    "    \"\"\"\n",
    "\n",
    "    def __init__(self, collection_name: str = \"pdf_documents\", persist_directory: str | None = None):\n",
    "        self.collection_name = collection_name\n",
    "        # Resolve absolute path to avoid readonly issues from relative CWDs\n",
    "        if persist_directory is None:\n",
    "            self.persist_directory = os.path.abspath(os.path.join(os.getcwd(), \"..\", \"data\", \"vector_store\"))\n",
    "        else:\n",
    "            self.persist_directory = os.path.abspath(persist_directory)\n",
    "        self.client = None\n",
    "        self.collection = None\n",
    "        self._initialize_store()\n",
    "\n",
    "    def _initialize_store(self):\n",
    "        \"\"\"\n",
    "        Initialize the store if it doesn't exist.\n",
    "        \"\"\"\n",
    "        try:\n",
    "            os.makedirs(self.persist_directory, exist_ok=True)\n",
    "            # Ensure directory is writable (rwx for owner, rx for group/others)\n",
    "            try:\n",
    "                os.chmod(self.persist_directory, 0o755)\n",
    "            except Exception:\n",
    "                pass\n",
    "            # Use PersistentClient for proper persistence\n",
    "            self.client = chromadb.PersistentClient(path=self.persist_directory)\n",
    "            self.collection = self.client.get_or_create_collection(\n",
    "                self.collection_name,\n",
    "                metadata={\n",
    "                    \"description\": \"This is a collection of documents for the PDF files\"\n",
    "                }\n",
    "            )\n",
    "            print(f\"Collection {self.collection_name} created successfully at {self.persist_directory}.\")\n",
    "            print(f\"Collection {self.collection_name} has {self.collection.count()} documents.\")\n",
    "        except Exception as e:\n",
    "            print(f\"Error creating directory {self.persist_directory}: {e}\")\n",
    "            raise\n",
    "\n",
    "    def add_documents(self, documents: List[Document], embeddings: np.ndarray):\n",
    "        \"\"\"\n",
    "        Add documents to the collection.\n",
    "        \"\"\"\n",
    "        ids = [str(uuid.uuid4()) for _ in range(len(documents))]\n",
    "        texts = [doc.page_content for doc in documents]\n",
    "        metadatas = [doc.metadata for doc in documents]\n",
    "        self.collection.add(\n",
    "            ids=ids,\n",
    "            documents=texts,\n",
    "            metadatas=metadatas,\n",
    "            embeddings=embeddings\n",
    "        )\n",
    "        print(f\"Added {len(documents)} documents to the collection {self.collection_name}.\")\n",
    "        print(f\"Collection {self.collection_name} has {self.collection.count()} documents.\")\n",
    "\n",
    "vector_store_manager = VectorStoreManager()\n",
    "vector_store_manager\n",
    "\n"
   ]
  },
  {
   "cell_type": "code",
   "execution_count": 66,
   "id": "70bd4db2",
   "metadata": {},
   "outputs": [
    {
     "name": "stdout",
     "output_type": "stream",
     "text": [
      "Generating embeddings for 3 documents\n"
     ]
    },
    {
     "name": "stderr",
     "output_type": "stream",
     "text": [
      "Batches: 100%|██████████| 1/1 [00:00<00:00,  2.95it/s]"
     ]
    },
    {
     "name": "stdout",
     "output_type": "stream",
     "text": [
      "Embeddings generated for 3 documents with shape (3, 384)\n",
      "Added 3 documents to the collection pdf_documents.\n",
      "Collection pdf_documents has 3 documents.\n"
     ]
    },
    {
     "name": "stderr",
     "output_type": "stream",
     "text": [
      "\n"
     ]
    }
   ],
   "source": [
    "texts = [doc.page_content for doc in pdf_documents]\n",
    "\n",
    "# Generate embeddings for the texts\n",
    "\n",
    "embeddings = embeddings_manager.generate_embeddings(texts)\n",
    "\n",
    "# store in vector store\n",
    "vector_store_manager.add_documents(pdf_documents,embeddings)\n",
    "\n",
    "# query the vector store\n",
    "# query = \"What is the capital of India?\"\n",
    "# results = vector_store_manager.query_collection(query)\n",
    "# print(results)"
   ]
  },
  {
   "cell_type": "code",
   "execution_count": 69,
   "id": "f4f08c52",
   "metadata": {},
   "outputs": [
    {
     "name": "stdout",
     "output_type": "stream",
     "text": [
      "Collection count: 3\n",
      "Retrieved 3 documents\n",
      "Document IDs: ['fa731226-4840-4f0a-b6ec-25e47a95abce', 'be6bdc2e-bd3c-4539-89ab-fc7dd377573e', 'b065ed2a-1b64-411b-bf19-86611c1e45ab']\n",
      "Generating embeddings for 1 documents\n"
     ]
    },
    {
     "name": "stderr",
     "output_type": "stream",
     "text": [
      "Batches: 100%|██████████| 1/1 [00:00<00:00, 36.01it/s]"
     ]
    },
    {
     "name": "stdout",
     "output_type": "stream",
     "text": [
      "Embeddings generated for 1 documents with shape (1, 384)\n",
      "\n",
      "Query results for 'What is this document about?':\n",
      "Result 1 (distance: 1.707): FORM NO. 1...\n",
      "Result 2 (distance: 1.716): FORM NO. 1...\n"
     ]
    },
    {
     "name": "stderr",
     "output_type": "stream",
     "text": [
      "\n"
     ]
    }
   ],
   "source": [
    "# Verify vector store contents\n",
    "print(f\"Collection count: {vector_store_manager.collection.count()}\")\n",
    "\n",
    "# Get all documents from the collection\n",
    "all_docs = vector_store_manager.collection.get()\n",
    "print(f\"Retrieved {len(all_docs['ids'])} documents\")\n",
    "print(\"Document IDs:\", all_docs['ids'])\n",
    "#print(\"First document preview:\", all_docs['documents'][0][:200] + \"...\" if all_docs['documents'] else \"No documents\")\n",
    "\n",
    "# Test a simple query\n",
    "query_text = \"What is this document about?\"\n",
    "query_embedding = embeddings_manager.generate_embeddings([query_text])\n",
    "results = vector_store_manager.collection.query(\n",
    "    query_embeddings=query_embedding.tolist(),\n",
    "    n_results=2\n",
    ")\n",
    "print(f\"\\nQuery results for '{query_text}':\")\n",
    "for i, (doc, dist) in enumerate(zip(results['documents'][0], results['distances'][0])):\n",
    "    print(f\"Result {i+1} (distance: {dist:.3f}): {doc[:10]}...\")\n"
   ]
  },
  {
   "cell_type": "markdown",
   "id": "454c502c",
   "metadata": {},
   "source": []
  },
  {
   "cell_type": "code",
   "execution_count": null,
   "id": "176585ef",
   "metadata": {},
   "outputs": [],
   "source": []
  },
  {
   "cell_type": "code",
   "execution_count": null,
   "id": "1f212ba8",
   "metadata": {},
   "outputs": [],
   "source": []
  }
 ],
 "metadata": {
  "kernelspec": {
   "display_name": ".venv",
   "language": "python",
   "name": "python3"
  },
  "language_info": {
   "codemirror_mode": {
    "name": "ipython",
    "version": 3
   },
   "file_extension": ".py",
   "mimetype": "text/x-python",
   "name": "python",
   "nbconvert_exporter": "python",
   "pygments_lexer": "ipython3",
   "version": "3.11.13"
  }
 },
 "nbformat": 4,
 "nbformat_minor": 5
}
